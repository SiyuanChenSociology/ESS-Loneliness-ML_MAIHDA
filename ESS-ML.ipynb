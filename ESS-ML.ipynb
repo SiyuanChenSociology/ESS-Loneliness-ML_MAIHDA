{
 "cells": [
  {
   "cell_type": "markdown",
   "id": "7bfb62af",
   "metadata": {
    "id": "7bfb62af"
   },
   "source": [
    "# Import data"
   ]
  },
  {
   "cell_type": "code",
   "execution_count": null,
   "id": "aa249dfe",
   "metadata": {},
   "outputs": [],
   "source": [
    "import pandas as pd\n",
    "file_path = \"ESS11.dta\"\n",
    "df = pd.read_stata(file_path,convert_categoricals=False)"
   ]
  },
  {
   "cell_type": "code",
   "execution_count": null,
   "id": "7f8da42e",
   "metadata": {
    "id": "7f8da42e",
    "outputId": "53a41dd3-3cbf-4469-de38-a73aa18572d4"
   },
   "outputs": [],
   "source": [
    "df"
   ]
  },
  {
   "cell_type": "code",
   "execution_count": null,
   "id": "92ae3dbc",
   "metadata": {
    "colab": {
     "base_uri": "https://localhost:8080/",
     "height": 444
    },
    "executionInfo": {
     "elapsed": 1975,
     "status": "ok",
     "timestamp": 1757236421126,
     "user": {
      "displayName": "Xiao Wang",
      "userId": "01292932993361768036"
     },
     "user_tz": -120
    },
    "id": "92ae3dbc",
    "outputId": "ef1a37c4-7bd7-492e-e19f-0faf144d984d"
   },
   "outputs": [],
   "source": [
    "# drop y nan\n",
    "df = df.dropna(subset=['loneliness']).reset_index(drop=True)\n",
    "df"
   ]
  },
  {
   "cell_type": "code",
   "execution_count": null,
   "id": "f659467e",
   "metadata": {
    "colab": {
     "base_uri": "https://localhost:8080/"
    },
    "executionInfo": {
     "elapsed": 43,
     "status": "ok",
     "timestamp": 1757236423023,
     "user": {
      "displayName": "Xiao Wang",
      "userId": "01292932993361768036"
     },
     "user_tz": -120
    },
    "id": "f659467e",
    "outputId": "2af583cd-f488-476f-d063-b525502f8145"
   },
   "outputs": [],
   "source": [
    "df.columns.tolist()"
   ]
  },
  {
   "cell_type": "code",
   "execution_count": null,
   "id": "931354d6",
   "metadata": {
    "id": "931354d6"
   },
   "outputs": [],
   "source": [
    "\n",
    "continuous_variables = [\n",
    "    \"SocTrust\",\n",
    "    \"sclmeet\",\n",
    "    \"stflife\",\n",
    "    \"happy\",\n",
    "    \"SRH\",\n",
    "    \"InstitTrust\",\n",
    "    \"rlgdgr\",\n",
    "    \"religiousAttendance\",\n",
    "    \"pray_r\",\n",
    "    \"Nchildren\",\n",
    "    \"education_con\",\n",
    "    \"inprdsc\",\n",
    "    \"sclact\",\n",
    "]\n",
    "\n",
    "categorical_variables = [\n",
    "\n",
    "    \"hlthhmp\",\n",
    "    \"depressed\",\n",
    "    \"informalcare\",\n",
    "\n",
    "\n",
    "    \"discrimination\",\n",
    "    \"cnfpplh\",\n",
    "\n",
    "    \"generation\",\n",
    "    \"ethnicity\",\n",
    "    \"gender\",\n",
    "    #\"nobingnd\",\n",
    "    \"age_groups\",\n",
    "    \"domicil\",\n",
    "    \"qualityHouse\",\n",
    "    #\"region\",\n",
    "    \"cntry_\",\n",
    "    #\"country_group\",\n",
    "    \"maritalstatus\",\n",
    "  #  \"childrenbelow3_dummy\", # Sept updated, delete this variables\n",
    "    \"childless\",\n",
    "    \"partnerhh\",\n",
    "    \"fnsdfml\",\n",
    "    \"eiscedf\",\n",
    "    \"eiscedm\",\n",
    "    \"emprf14\",\n",
    "    \"occf14b\",\n",
    "    \"emprm14\",\n",
    "    \"eisced\",\n",
    "    \"employment\",\n",
    "    \"EQHHincome_cat\",\n",
    "    \"esec9\",\n",
    "    \"subjhinc\",\n",
    "   \"edu_mobility\" # Sept updated, no need?\n",
    "]"
   ]
  },
  {
   "cell_type": "code",
   "execution_count": null,
   "id": "58b62397",
   "metadata": {
    "id": "58b62397"
   },
   "outputs": [],
   "source": [
    "selected_vars_old = continuous_variables + categorical_variables\n",
    "\n"
   ]
  },
  {
   "cell_type": "code",
   "execution_count": null,
   "id": "e62b5236",
   "metadata": {
    "id": "78d84f3b"
   },
   "outputs": [],
   "source": [
    "# 旧 -> 新 的映射关系\n",
    "rename_dict = {\n",
    "    \"depressed\": \"Depressed\",\n",
    "    \"partnerhh\": \"Partnerhh\",\n",
    "    \"happy\": \"Happiness\",\n",
    "    \"cntry_\": \"Country\",\n",
    "    \"stflife\": \"LifeSatisfaction\",\n",
    "    \"cnfpplh\":\"FamilyConflict\",\n",
    "    \n",
    "    \"maritalstatus\": \"MaritalStatus\",\n",
    "    \"inprdsc\": \"SocInt\",\n",
    "    \"subjhinc\": \"SubjHHincome\",\n",
    "    \"InstitTrust\":\"InstitTrust\",\n",
    "    \"sclmeet\": \"SocMeet\",\n",
    "    \"Nchildren\": \"Nchildren\",\n",
    "    \n",
    "    \"fnsdfml\": \"CHFinancSit\",\n",
    "\n",
    "    \"SocInt\": \"SocInt\",\n",
    "\n",
    "    \"InstitTrust\": \"InstitTrust\",\n",
    "    \"religiousAttendance\":\"ReligiousAtt\",\n",
    "    \"generation\": \"MigBackground\",\n",
    "    \"sclact\": \"SocAct\",\n",
    "    \"gender\": \"Gender\",\n",
    "    \"rlgdgr\": \"Religious\",\n",
    "    \"age_groups\": \"AgeGroups\",\n",
    "    \"pray_r\": \"Pray\",\n",
    "    \"qualityHouse\": \"QualityHouse\",\n",
    "    \n",
    "    \"domicil\": \"Urbanity\",\n",
    "    \"childless\": \"Childless\",\n",
    "    \"SRH\": \"SRH\",\n",
    "    \"SocTrust\": \"SocTrust\",\n",
    "    \n",
    "    \"occf14b\": \"CHFatherOcc\",\n",
    " #   \"occm14b\": \"CHMotherOcc\",  \n",
    "    \"education_con\": \"YearsEducation\",  \n",
    "    \n",
    "    \"eiscedm\": \"EducationMother\",\n",
    "    \"eiscedf\": \"EducationFather\",\n",
    "    \n",
    "    \"hlthhmp\": \"HealthHamp\",\n",
    "    \n",
    "    \"EQHHincome_cat\": \"Hhincome\",\n",
    "    \n",
    "    \"esec9\":\"OccStatus\",\n",
    "    \n",
    "    \"emprf14\": \"CHFatherEmploy\",\n",
    "    \"emprm14\": \"CHMotherEmploy\",\n",
    "    \n",
    "    \"discrimination\": \"Discrimination\",\n",
    "    \n",
    "    \"ethnicity\": \"Ethnicity\",\n",
    "    \"employment\": \"Employ\",\n",
    "    \"informalcare\": \"InformalCare\",\n",
    "    \"eisced\": \"EduDegree\",\n",
    "    \n",
    "    \"edu_mobility\":\"EduMobility\"\n",
    "      \n",
    "}\n",
    "\n",
    "df = df.rename(columns=rename_dict)\n",
    "\n",
    "continuous_variables_new = [rename_dict.get(var, var) for var in continuous_variables]\n",
    "categorical_variables_new = [rename_dict.get(var, var) for var in categorical_variables]\n",
    "\n",
    "print(continuous_variables_new)\n",
    "print(categorical_variables_new)\n"
   ]
  },
  {
   "cell_type": "code",
   "execution_count": null,
   "id": "8340c78b",
   "metadata": {},
   "outputs": [],
   "source": [
    "selected_vars_new = continuous_variables_new + categorical_variables_new"
   ]
  },
  {
   "cell_type": "code",
   "execution_count": null,
   "id": "1ad10fbb",
   "metadata": {
    "colab": {
     "base_uri": "https://localhost:8080/",
     "height": 1000
    },
    "executionInfo": {
     "elapsed": 78,
     "status": "ok",
     "timestamp": 1757236429086,
     "user": {
      "displayName": "Xiao Wang",
      "userId": "01292932993361768036"
     },
     "user_tz": -120
    },
    "id": "1ad10fbb",
    "outputId": "c04187fd-25bd-48f9-d2c9-95561460af61"
   },
   "outputs": [],
   "source": [
    "df[selected_vars_new].isnull().mean().sort_values(ascending=False)"
   ]
  },
  {
   "cell_type": "code",
   "execution_count": null,
   "id": "6585a43b",
   "metadata": {
    "colab": {
     "base_uri": "https://localhost:8080/"
    },
    "executionInfo": {
     "elapsed": 15,
     "status": "ok",
     "timestamp": 1757236434098,
     "user": {
      "displayName": "Xiao Wang",
      "userId": "01292932993361768036"
     },
     "user_tz": -120
    },
    "id": "6585a43b",
    "outputId": "6aed2c7b-4384-4262-f267-2446b93e1063"
   },
   "outputs": [],
   "source": [
    "result = {var: df[var].nunique() for var in categorical_variables_new if var in df.columns}\n",
    "filtered = {k: v for k, v in result.items() if v >= 6}\n",
    "\n",
    "variables_with_many_classes = list(filtered.keys())\n",
    "filtered\n"
   ]
  },
  {
   "cell_type": "code",
   "execution_count": null,
   "id": "c149d668",
   "metadata": {
    "colab": {
     "base_uri": "https://localhost:8080/"
    },
    "executionInfo": {
     "elapsed": 8,
     "status": "ok",
     "timestamp": 1757236438048,
     "user": {
      "displayName": "Xiao Wang",
      "userId": "01292932993361768036"
     },
     "user_tz": -120
    },
    "id": "c149d668",
    "outputId": "f399fa10-f39e-4898-8f30-a891fe1d6021"
   },
   "outputs": [],
   "source": [
    "variables_with_many_classes"
   ]
  },
  {
   "cell_type": "code",
   "execution_count": null,
   "id": "0e440c3b",
   "metadata": {},
   "outputs": [],
   "source": [
    "# 删除 country == 31 的行\n",
    "df = df[df[\"Country\"] != 31]\n",
    "\n",
    "# 重置索引\n",
    "df = df.reset_index(drop=True)\n",
    "\n",
    "# 查看结果\n",
    "print(df[\"Country\"].unique())  # 检查是否已删除\n"
   ]
  },
  {
   "cell_type": "code",
   "execution_count": null,
   "id": "43338e28",
   "metadata": {},
   "outputs": [],
   "source": [
    "df"
   ]
  },
  {
   "cell_type": "code",
   "execution_count": null,
   "id": "4ac60009",
   "metadata": {
    "id": "4ac60009"
   },
   "outputs": [],
   "source": [
    "categorical_variables_new = [var for var in categorical_variables_new if var not in variables_with_many_classes]\n",
    "\n",
    "for var in variables_with_many_classes:\n",
    "    if var not in continuous_variables_new:\n",
    "        continuous_variables_new.append(var)\n"
   ]
  },
  {
   "cell_type": "code",
   "execution_count": null,
   "id": "9b0627b6",
   "metadata": {
    "id": "9b0627b6"
   },
   "outputs": [],
   "source": [
    "selected_vars_new = continuous_variables_new + categorical_variables_new\n",
    "\n",
    "df = df[selected_vars_new + ['loneliness'] + ['anweight']]"
   ]
  },
  {
   "cell_type": "code",
   "execution_count": null,
   "id": "nSiKw_HoJ5vZ",
   "metadata": {
    "colab": {
     "base_uri": "https://localhost:8080/"
    },
    "executionInfo": {
     "elapsed": 15,
     "status": "ok",
     "timestamp": 1757236475126,
     "user": {
      "displayName": "Xiao Wang",
      "userId": "01292932993361768036"
     },
     "user_tz": -120
    },
    "id": "nSiKw_HoJ5vZ",
    "outputId": "e650c010-c8c4-47ea-e19d-f8e3bfd8eb6c"
   },
   "outputs": [],
   "source": [
    "df.shape"
   ]
  },
  {
   "cell_type": "code",
   "execution_count": null,
   "id": "fd791f23",
   "metadata": {},
   "outputs": [],
   "source": [
    "columns_needed = [\"loneliness\", \"Gender\", \"AgeGroups\", \"SubjHHincome\", \"CHFinancSit\", \"MigBackground\", \"Country\",\n",
    "                 \"anweight\"]\n",
    "\n",
    "df_selected = df[columns_needed]\n",
    "\n",
    "df_selected.to_stata(\"selected_data.dta\", write_index=False)\n",
    "\n"
   ]
  },
  {
   "cell_type": "markdown",
   "id": "5eeedb5e",
   "metadata": {
    "id": "5eeedb5e"
   },
   "source": [
    "# Models"
   ]
  },
  {
   "cell_type": "code",
   "execution_count": null,
   "id": "ba774cb1",
   "metadata": {},
   "outputs": [],
   "source": [
    "df"
   ]
  },
  {
   "cell_type": "code",
   "execution_count": null,
   "id": "aZFEeZlLJJ2R",
   "metadata": {
    "id": "aZFEeZlLJJ2R"
   },
   "outputs": [],
   "source": [
    "import pandas as pd\n",
    "import xgboost as xgb\n",
    "from sklearn.model_selection import train_test_split\n",
    "from sklearn.metrics import accuracy_score, classification_report\n",
    "\n",
    "target = \"loneliness\"   # 你的标签列名\n",
    "\n",
    "X = df.drop(columns=[target, \"anweight\"])\n",
    "y = df[target]\n",
    "\n",
    "for col in categorical_variables_new:\n",
    "    X[col] = X[col].astype(\"category\")\n"
   ]
  },
  {
   "cell_type": "code",
   "execution_count": null,
   "id": "27wdrDv5dSoh",
   "metadata": {
    "colab": {
     "base_uri": "https://localhost:8080/",
     "height": 1000
    },
    "executionInfo": {
     "elapsed": 35,
     "status": "ok",
     "timestamp": 1757238281688,
     "user": {
      "displayName": "Xiao Wang",
      "userId": "01292932993361768036"
     },
     "user_tz": -120
    },
    "id": "27wdrDv5dSoh",
    "outputId": "94be3cce-94ab-4899-8880-cf8bc0bf2d98"
   },
   "outputs": [],
   "source": [
    "X.dtypes"
   ]
  },
  {
   "cell_type": "code",
   "execution_count": null,
   "id": "TX01GDaOjKZ3",
   "metadata": {
    "colab": {
     "base_uri": "https://localhost:8080/"
    },
    "executionInfo": {
     "elapsed": 377775,
     "status": "ok",
     "timestamp": 1757239349775,
     "user": {
      "displayName": "Xiao Wang",
      "userId": "01292932993361768036"
     },
     "user_tz": -120
    },
    "id": "TX01GDaOjKZ3",
    "outputId": "eb60ca9a-3bcf-440f-ff77-1433098475b6"
   },
   "outputs": [],
   "source": [
    "from sklearn.model_selection import train_test_split, GridSearchCV\n",
    "from sklearn.metrics import accuracy_score\n",
    "import xgboost as xgb\n",
    "\n",
    "X_train, X_test, y_train, y_test = train_test_split(\n",
    "    X, y, test_size=0.2, random_state=42, stratify=y\n",
    ")\n",
    "\n",
    "xgb_model = xgb.XGBClassifier(\n",
    "    tree_method=\"hist\",\n",
    "    enable_categorical=True,\n",
    "    random_state=42,\n",
    ")\n",
    "\n",
    "param_grid = {\n",
    "    \"n_estimators\": [100, 200, 300],\n",
    "    \"learning_rate\": [0.01, 0.05, 0.1],\n",
    "    \"max_depth\": [4, 6, 8],\n",
    "}\n",
    "\n",
    "# 使用 GridSearchCV 搜索最佳超参数\n",
    "grid_search = GridSearchCV(\n",
    "    estimator=xgb_model,\n",
    "    param_grid=param_grid,\n",
    "    cv=5,\n",
    "    scoring='roc_auc',  # 用 AUC 评估\n",
    "    n_jobs=-1,\n",
    "    verbose=2  #\n",
    ")\n",
    "\n",
    "grid_search.fit(X_train, y_train)\n",
    "\n",
    "print(\"Best parameters:\", grid_search.best_params_)\n",
    "\n",
    "# 用最佳模型进行预测\n",
    "best_model = grid_search.best_estimator_\n"
   ]
  },
  {
   "cell_type": "code",
   "execution_count": null,
   "id": "U-Js9FmWpQMx",
   "metadata": {
    "colab": {
     "base_uri": "https://localhost:8080/"
    },
    "executionInfo": {
     "elapsed": 317,
     "status": "ok",
     "timestamp": 1757239663475,
     "user": {
      "displayName": "Xiao Wang",
      "userId": "01292932993361768036"
     },
     "user_tz": -120
    },
    "id": "U-Js9FmWpQMx",
    "outputId": "95ca0124-3d49-4ba4-c048-8f04edaf8238"
   },
   "outputs": [],
   "source": [
    "# 预测类别\n",
    "from sklearn.metrics import accuracy_score, roc_auc_score, precision_score, recall_score, f1_score\n",
    "\n",
    "y_pred = best_model.predict(X_test)\n",
    "\n",
    "y_pred_proba = best_model.predict_proba(X_test)[:, 1]\n",
    "\n",
    "accuracy = accuracy_score(y_test, y_pred)\n",
    "auc = roc_auc_score(y_test, y_pred_proba)\n",
    "f1 = f1_score(y_test, y_pred)\n",
    "\n",
    "print(f\"Accuracy: {accuracy:.4f}\")\n",
    "print(f\"AUC: {auc:.4f}\")\n",
    "\n",
    "print(f\"F1-score: {f1:.4f}\")\n"
   ]
  },
  {
   "cell_type": "markdown",
   "id": "RzhDHyXYJqy0",
   "metadata": {
    "id": "RzhDHyXYJqy0"
   },
   "source": [
    "# SHAP\n"
   ]
  },
  {
   "cell_type": "code",
   "execution_count": null,
   "id": "db5476e2",
   "metadata": {},
   "outputs": [],
   "source": [
    "import pandas as pd\n",
    "import numpy as np\n",
    "import shap\n",
    "\n",
    "# 计算 SHAP 值\n",
    "explainer = shap.TreeExplainer(best_model)\n",
    "shap_values = explainer.shap_values(X_test)\n",
    "\n",
    "# 计算每个特征的平均绝对 SHAP 值\n",
    "shap_importance = pd.DataFrame({\n",
    "    'feature': X_test.columns,\n",
    "    'importance': np.abs(shap_values).mean(axis=0)\n",
    "})\n",
    "\n",
    "# 按重要性排序\n",
    "shap_importance = shap_importance.sort_values(by='importance', ascending=False)\n",
    "print(shap_importance)\n"
   ]
  },
  {
   "cell_type": "code",
   "execution_count": null,
   "id": "df57eea9",
   "metadata": {},
   "outputs": [],
   "source": [
    "import matplotlib.pyplot as plt\n",
    "\n",
    "# 选择前N个最重要特征\n",
    "top_n = 40\n",
    "top_features = shap_importance.head(top_n)\n",
    "\n",
    "# 绘制条形图\n",
    "plt.figure(figsize=(8,13))\n",
    "plt.barh(top_features['feature'][::-1], top_features['importance'][::-1], color='skyblue')\n",
    "plt.xlabel('Mean |SHAP value|')\n",
    "plt.title(f'Top {top_n} Feature Importance (SHAP)')\n",
    "plt.show()\n"
   ]
  },
  {
   "cell_type": "markdown",
   "id": "acb426b2",
   "metadata": {},
   "source": [
    "## Plot age country"
   ]
  },
  {
   "cell_type": "code",
   "execution_count": null,
   "id": "806efdcc",
   "metadata": {},
   "outputs": [],
   "source": [
    "file_path = \"ESS11.dta\"\n",
    "get_country_df = pd.read_stata(file_path,convert_categoricals=False)\n",
    "get_country_df = get_country_df.dropna(subset=['loneliness']).reset_index(drop=True)"
   ]
  },
  {
   "cell_type": "code",
   "execution_count": null,
   "id": "7a6e43a7",
   "metadata": {},
   "outputs": [],
   "source": [
    "age_group_name=['15-29','30-49','50-64','65-80', '81+']\n"
   ]
  },
  {
   "cell_type": "code",
   "execution_count": null,
   "id": "e037dd23",
   "metadata": {},
   "outputs": [],
   "source": [
    "# plot age \n",
    "\n",
    "\n",
    "import pandas as pd\n",
    "import numpy as np\n",
    "import shap\n",
    "import matplotlib.pyplot as plt\n",
    "import os\n",
    "\n",
    "top_n = 40\n",
    "\n",
    "save_dir = './'\n",
    "os.makedirs(save_dir, exist_ok=True)  # 如果目录不存在就创建\n",
    "\n",
    "\n",
    "for i in range(5):  # 跳过 NaN\n",
    "\n",
    "    subset = X_test[X_test['AgeGroups'] == (i+1)]\n",
    "\n",
    "    # 计算 SHAP 值\n",
    "    shap_values_subset = explainer.shap_values(subset)\n",
    "\n",
    "    # 计算平均绝对 SHAP\n",
    "    shap_importance_subset = pd.DataFrame({\n",
    "        'feature': subset.columns,\n",
    "        'importance': np.abs(shap_values_subset).mean(axis=0)\n",
    "    })\n",
    "\n",
    "    # 排除 loop_variables\n",
    "\n",
    "    # 取前 top_n 特征\n",
    "    top_features = shap_importance_subset.sort_values(by='importance', ascending=False).head(top_n).copy()\n",
    "\n",
    "\n",
    "    # 保存到总表\n",
    "\n",
    "    plt.figure(figsize=(8,10))\n",
    "    plt.barh(top_features['feature'][::-1], top_features['importance'][::-1], color='skyblue')\n",
    "    plt.xlabel('Mean |SHAP value|')\n",
    "    plt.title(f\"Top {top_n} Feature Importance\\n AgeGroups = {age_group_name[i]}\")\n",
    "    plt.tight_layout()\n",
    "\n",
    "    # 保存图像\n",
    "    filename = f\"AgeGroups_{i+1}.png\"\n",
    "    filepath = os.path.join(save_dir, filename)\n",
    "    plt.savefig(filepath, dpi=300)  # 保存高分辨率图片\n",
    "    print('save a figure')\n",
    "    plt.close()  # 关闭当前 figure，防止内存占用\n"
   ]
  },
  {
   "cell_type": "code",
   "execution_count": null,
   "id": "57f9e42e",
   "metadata": {},
   "outputs": [],
   "source": [
    "## Plot country"
   ]
  },
  {
   "cell_type": "code",
   "execution_count": null,
   "id": "949cdf5d",
   "metadata": {},
   "outputs": [],
   "source": [
    "group_country_dict = (\n",
    "    get_country_df\n",
    "    .groupby('country_group')['cntry_']\n",
    "    .unique()\n",
    "    .apply(list)\n",
    "    .to_dict()\n",
    ")\n",
    "\n",
    "print(group_country_dict)\n"
   ]
  },
  {
   "cell_type": "code",
   "execution_count": null,
   "id": "bd15f834",
   "metadata": {},
   "outputs": [],
   "source": [
    "group_country_dict[1]"
   ]
  },
  {
   "cell_type": "code",
   "execution_count": null,
   "id": "a45fb451",
   "metadata": {},
   "outputs": [],
   "source": [
    "country_group_name = ['Eastern European','Southern European','Nordic', 'Western European']"
   ]
  },
  {
   "cell_type": "code",
   "execution_count": null,
   "id": "63f05114",
   "metadata": {},
   "outputs": [],
   "source": [
    "for i in range(4):\n",
    "    \n",
    "    \n",
    "    subset = X_test[X_test['Country'].isin(group_country_dict[i+1])]\n",
    "    \n",
    "   # 计算 SHAP 值\n",
    "    shap_values_subset = explainer.shap_values(subset)\n",
    "\n",
    "    # 计算平均绝对 SHAP\n",
    "    shap_importance_subset = pd.DataFrame({\n",
    "        'feature': subset.columns,\n",
    "        'importance': np.abs(shap_values_subset).mean(axis=0)\n",
    "    })\n",
    "\n",
    "\n",
    "    top_features = shap_importance_subset.sort_values(by='importance', ascending=False).head(top_n).copy()\n",
    "\n",
    "\n",
    "    plt.figure(figsize=(8,10))\n",
    "    plt.barh(top_features['feature'][::-1], top_features['importance'][::-1], color='skyblue')\n",
    "    plt.xlabel('Mean |SHAP value|')\n",
    "    plt.title(f\"Top {top_n} Feature Importance\\n Country = {country_group_name[i]}\")\n",
    "    plt.tight_layout()\n",
    "\n",
    "    # 保存图像\n",
    "    filename = f\"Country_{i+1}.png\"\n",
    "    filepath = os.path.join(save_dir, filename)\n",
    "    plt.savefig(filepath, dpi=300)  # 保存高分辨率图片\n",
    "    print('save a figure')\n",
    "    plt.close()  # 关闭当前 figure，防止内存占用"
   ]
  },
  {
   "cell_type": "code",
   "execution_count": null,
   "id": "01569fe5",
   "metadata": {},
   "outputs": [],
   "source": [
    "# For Gender "
   ]
  },
  {
   "cell_type": "code",
   "execution_count": null,
   "id": "aa5ee3b4",
   "metadata": {},
   "outputs": [],
   "source": [
    "gender_name = ['Men', 'Women']\n",
    "gender_values = [0.0, 1.0]  # 对应 Gender 列的实际值\n",
    "\n",
    "for i, gender_val in enumerate(gender_values):\n",
    "    subset = X_test[X_test['Gender'] == gender_val]\n",
    "    if subset.empty:\n",
    "        continue\n",
    "\n",
    "    # 对二分类模型取类别 1 的 SHAP 值\n",
    "    shap_values_subset = explainer.shap_values(subset)\n",
    "    if isinstance(shap_values_subset, list):\n",
    "        shap_values_subset = shap_values_subset[1]\n",
    "\n",
    "    shap_importance_subset = pd.DataFrame({\n",
    "        'feature': subset.columns,\n",
    "        'importance': np.abs(shap_values_subset).mean(axis=0)\n",
    "    })\n",
    "\n",
    "    top_features = shap_importance_subset.sort_values(by='importance', ascending=False).head(top_n)\n",
    "\n",
    "    plt.figure(figsize=(8,10))\n",
    "    plt.barh(top_features['feature'][::-1], top_features['importance'][::-1], color='skyblue')\n",
    "    plt.xlabel('Mean |SHAP value|')\n",
    "    plt.title(f\"Top {top_n} Feature Importance\\n Gender = {gender_name[i]}\")\n",
    "    plt.tight_layout()\n",
    "\n",
    "    filepath = os.path.join(save_dir, f\"Gender_{int(gender_val)}.png\")\n",
    "    plt.savefig(filepath, dpi=300)\n",
    "    print(f'Saved figure: {filepath}')\n",
    "    plt.close()\n"
   ]
  }
 ],
 "metadata": {
  "colab": {
   "provenance": [],
   "toc_visible": true
  },
  "kernelspec": {
   "display_name": "Python 3 (ipykernel)",
   "language": "python",
   "name": "python3"
  },
  "language_info": {
   "codemirror_mode": {
    "name": "ipython",
    "version": 3
   },
   "file_extension": ".py",
   "mimetype": "text/x-python",
   "name": "python",
   "nbconvert_exporter": "python",
   "pygments_lexer": "ipython3",
   "version": "3.9.13"
  }
 },
 "nbformat": 4,
 "nbformat_minor": 5
}
